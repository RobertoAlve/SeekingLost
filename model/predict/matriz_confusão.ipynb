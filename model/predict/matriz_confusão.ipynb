{
 "cells": [
  {
   "cell_type": "code",
   "execution_count": 1,
   "id": "e805d03f",
   "metadata": {},
   "outputs": [],
   "source": [
    "import os\n",
    "import cv2\n",
    "import numpy as np\n",
    "from PIL import Image\n",
    "import boto3\n",
    "import seaborn as sns\n",
    "\n",
    "from sklearn.model_selection import train_test_split\n",
    "from sklearn.metrics import confusion_matrix, accuracy_score, precision_score, recall_score, f1_score\n",
    "import matplotlib.pyplot as plt"
   ]
  },
  {
   "cell_type": "code",
   "execution_count": 2,
   "id": "6e06ddb7",
   "metadata": {},
   "outputs": [],
   "source": [
    "path = 'processed_images'\n",
    "paths = [os.path.join(path, f) for f in os.listdir(path)]"
   ]
  },
  {
   "cell_type": "code",
   "execution_count": 3,
   "id": "f626c926",
   "metadata": {},
   "outputs": [],
   "source": [
    "# Supondo que você tenha um detector de face (por exemplo, um classificador Haar)...\n",
    "detector = cv2.CascadeClassifier(cv2.data.haarcascades + 'haarcascade_frontalface_default.xml')"
   ]
  },
  {
   "cell_type": "code",
   "execution_count": 4,
   "id": "6ca628fc",
   "metadata": {},
   "outputs": [],
   "source": [
    "def trainingModel(paths):\n",
    "    faceSamples = []\n",
    "    ids = []\n",
    "\n",
    "    for imagePath in paths:\n",
    "        if imagePath.endswith(('.png', '.jpg', '.jpeg')): # Filtra por formatos de imagem\n",
    "            PIL_img = Image.open(imagePath).convert('L')\n",
    "            img_uint8 = np.array(PIL_img, 'uint8')\n",
    "\n",
    "            id = int(os.path.split(imagePath)[-1].split(\".\")[1])\n",
    "            faces = detector.detectMultiScale(img_uint8)\n",
    "\n",
    "            for (x, y, w, h) in faces:\n",
    "                faceSamples.append(img_uint8[y:y+h, x:x+w])\n",
    "                ids.append(id)\n",
    "\n",
    "    return faceSamples, ids"
   ]
  },
  {
   "cell_type": "code",
   "execution_count": 5,
   "id": "ea7d24c6",
   "metadata": {},
   "outputs": [],
   "source": [
    "faces, ids = trainingModel(paths)"
   ]
  },
  {
   "cell_type": "code",
   "execution_count": 19,
   "id": "a4ae6549",
   "metadata": {},
   "outputs": [],
   "source": [
    "x_train_faces, x_test_faces, y_train_ids, y_test_ids = train_test_split(faces, ids, test_size = 0.5, random_state = 42)"
   ]
  },
  {
   "cell_type": "code",
   "execution_count": 22,
   "id": "78be93cf",
   "metadata": {},
   "outputs": [],
   "source": [
    "# Carregar o modelo treinado...\n",
    "recognizer = cv2.face.LBPHFaceRecognizer_create()"
   ]
  },
  {
   "cell_type": "code",
   "execution_count": 23,
   "id": "bba2e0f0",
   "metadata": {},
   "outputs": [],
   "source": [
    "recognizer.train(x_train_faces, np.array(y_train_ids))\n",
    "recognizer.write('trainer/trainer.yml')"
   ]
  },
  {
   "cell_type": "code",
   "execution_count": null,
   "id": "6cd0c6e9",
   "metadata": {},
   "outputs": [],
   "source": [
    "recognizer.read('trainer/trainer.yml')"
   ]
  },
  {
   "cell_type": "code",
   "execution_count": 25,
   "id": "83bdb3f1",
   "metadata": {},
   "outputs": [
    {
     "ename": "KeyboardInterrupt",
     "evalue": "",
     "output_type": "error",
     "traceback": [
      "\u001b[0;31m---------------------------------------------------------------------------\u001b[0m",
      "\u001b[0;31mKeyboardInterrupt\u001b[0m                         Traceback (most recent call last)",
      "\u001b[0;32m/tmp/ipykernel_6771/2805453585.py\u001b[0m in \u001b[0;36m<module>\u001b[0;34m\u001b[0m\n\u001b[1;32m      4\u001b[0m \u001b[0mpredicted_labels\u001b[0m \u001b[0;34m=\u001b[0m \u001b[0;34m[\u001b[0m\u001b[0;34m]\u001b[0m\u001b[0;34m\u001b[0m\u001b[0;34m\u001b[0m\u001b[0m\n\u001b[1;32m      5\u001b[0m \u001b[0;32mfor\u001b[0m \u001b[0mface\u001b[0m \u001b[0;32min\u001b[0m \u001b[0mx_test_faces\u001b[0m\u001b[0;34m:\u001b[0m\u001b[0;34m\u001b[0m\u001b[0;34m\u001b[0m\u001b[0m\n\u001b[0;32m----> 6\u001b[0;31m     \u001b[0mlabel\u001b[0m\u001b[0;34m,\u001b[0m \u001b[0mconfidence\u001b[0m \u001b[0;34m=\u001b[0m \u001b[0mrecognizer\u001b[0m\u001b[0;34m.\u001b[0m\u001b[0mpredict\u001b[0m\u001b[0;34m(\u001b[0m\u001b[0mface\u001b[0m\u001b[0;34m)\u001b[0m\u001b[0;34m\u001b[0m\u001b[0;34m\u001b[0m\u001b[0m\n\u001b[0m\u001b[1;32m      7\u001b[0m \u001b[0;31m#     print('Confidence', confidence)\u001b[0m\u001b[0;34m\u001b[0m\u001b[0;34m\u001b[0m\u001b[0;34m\u001b[0m\u001b[0m\n\u001b[1;32m      8\u001b[0m     \u001b[0mpredicted_labels\u001b[0m\u001b[0;34m.\u001b[0m\u001b[0mappend\u001b[0m\u001b[0;34m(\u001b[0m\u001b[0mlabel\u001b[0m\u001b[0;34m)\u001b[0m\u001b[0;34m\u001b[0m\u001b[0;34m\u001b[0m\u001b[0m\n",
      "\u001b[0;31mKeyboardInterrupt\u001b[0m: "
     ]
    }
   ],
   "source": [
    "# Realizar predições...\n",
    "predicted_labels = []\n",
    "for face in x_test_faces:\n",
    "    label, confidence = recognizer.predict(face)\n",
    "#     print('Confidence', confidence)\n",
    "    predicted_labels.append(label)\n",
    "\n",
    "# Converter listas para arrays do numpy...\n",
    "test_labels = np.array(y_test_ids)\n",
    "predicted_labels = np.array(predicted_labels)"
   ]
  },
  {
   "cell_type": "code",
   "execution_count": null,
   "id": "88edfaf8",
   "metadata": {},
   "outputs": [],
   "source": [
    "purple_colors = [\"#8e44ad\", \"#d7bde2\", \"#af7ac5\", \"#9b59b6\", \"#663399\"]\n",
    "\n",
    "accuracy = accuracy_score(test_labels, predicted_labels)\n",
    "precision = precision_score(test_labels, predicted_labels)\n",
    "recall = recall_score(test_labels, predicted_labels)\n",
    "score = f1_score(test_labels, predicted_labels)\n",
    "\n",
    "print(\"Precisão: \", precision)\n",
    "print(\"Recall: \", recall)\n",
    "print(\"F1 Score: \", score)\n",
    "\n",
    "# Plotar a matriz de confusão\n",
    "plt.figure(figsize=(10, 7))\n",
    "sns.heatmap(cm, annot=True, fmt='d', cmap=sns.color_palette(purple_colors))\n",
    "plt.ylabel('Rótulo Verdadeiro')\n",
    "plt.xlabel('Rótulo Predito')\n",
    "plt.title(f'Matriz de Confusão - Accuracy: {accuracy:.2f}')\n",
    "plt.show()"
   ]
  }
 ],
 "metadata": {
  "kernelspec": {
   "display_name": "Python 3 (ipykernel)",
   "language": "python",
   "name": "python3"
  },
  "language_info": {
   "codemirror_mode": {
    "name": "ipython",
    "version": 3
   },
   "file_extension": ".py",
   "mimetype": "text/x-python",
   "name": "python",
   "nbconvert_exporter": "python",
   "pygments_lexer": "ipython3",
   "version": "3.11.3"
  }
 },
 "nbformat": 4,
 "nbformat_minor": 5
}
